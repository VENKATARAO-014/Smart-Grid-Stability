{
 "cells": [
  {
   "cell_type": "code",
   "execution_count": 19,
   "id": "798b2bdd",
   "metadata": {},
   "outputs": [],
   "source": [
    "import pandas as pd\n",
    "import numpy as np\n",
    "from sklearn.model_selection import train_test_split\n",
    "from sklearn.preprocessing import MinMaxScaler\n",
    "from sklearn.metrics import confusion_matrix\n",
    "from sklearn.metrics import accuracy_score"
   ]
  },
  {
   "cell_type": "code",
   "execution_count": 20,
   "id": "5a18a553",
   "metadata": {},
   "outputs": [
    {
     "data": {
      "text/html": [
       "<div>\n",
       "<style scoped>\n",
       "    .dataframe tbody tr th:only-of-type {\n",
       "        vertical-align: middle;\n",
       "    }\n",
       "\n",
       "    .dataframe tbody tr th {\n",
       "        vertical-align: top;\n",
       "    }\n",
       "\n",
       "    .dataframe thead th {\n",
       "        text-align: right;\n",
       "    }\n",
       "</style>\n",
       "<table border=\"1\" class=\"dataframe\">\n",
       "  <thead>\n",
       "    <tr style=\"text-align: right;\">\n",
       "      <th></th>\n",
       "      <th>tau1</th>\n",
       "      <th>tau2</th>\n",
       "      <th>tau3</th>\n",
       "      <th>tau4</th>\n",
       "      <th>p1</th>\n",
       "      <th>p2</th>\n",
       "      <th>p3</th>\n",
       "      <th>p4</th>\n",
       "      <th>g1</th>\n",
       "      <th>g2</th>\n",
       "      <th>g3</th>\n",
       "      <th>g4</th>\n",
       "      <th>stab</th>\n",
       "      <th>stabf</th>\n",
       "    </tr>\n",
       "  </thead>\n",
       "  <tbody>\n",
       "    <tr>\n",
       "      <th>0</th>\n",
       "      <td>2.959060</td>\n",
       "      <td>3.079885</td>\n",
       "      <td>8.381025</td>\n",
       "      <td>9.780754</td>\n",
       "      <td>3.763085</td>\n",
       "      <td>-0.782604</td>\n",
       "      <td>-1.257395</td>\n",
       "      <td>-1.723086</td>\n",
       "      <td>0.650456</td>\n",
       "      <td>0.859578</td>\n",
       "      <td>0.887445</td>\n",
       "      <td>0.958034</td>\n",
       "      <td>0.055347</td>\n",
       "      <td>unstable</td>\n",
       "    </tr>\n",
       "    <tr>\n",
       "      <th>1</th>\n",
       "      <td>9.304097</td>\n",
       "      <td>4.902524</td>\n",
       "      <td>3.047541</td>\n",
       "      <td>1.369357</td>\n",
       "      <td>5.067812</td>\n",
       "      <td>-1.940058</td>\n",
       "      <td>-1.872742</td>\n",
       "      <td>-1.255012</td>\n",
       "      <td>0.413441</td>\n",
       "      <td>0.862414</td>\n",
       "      <td>0.562139</td>\n",
       "      <td>0.781760</td>\n",
       "      <td>-0.005957</td>\n",
       "      <td>stable</td>\n",
       "    </tr>\n",
       "    <tr>\n",
       "      <th>2</th>\n",
       "      <td>8.971707</td>\n",
       "      <td>8.848428</td>\n",
       "      <td>3.046479</td>\n",
       "      <td>1.214518</td>\n",
       "      <td>3.405158</td>\n",
       "      <td>-1.207456</td>\n",
       "      <td>-1.277210</td>\n",
       "      <td>-0.920492</td>\n",
       "      <td>0.163041</td>\n",
       "      <td>0.766689</td>\n",
       "      <td>0.839444</td>\n",
       "      <td>0.109853</td>\n",
       "      <td>0.003471</td>\n",
       "      <td>unstable</td>\n",
       "    </tr>\n",
       "    <tr>\n",
       "      <th>3</th>\n",
       "      <td>0.716415</td>\n",
       "      <td>7.669600</td>\n",
       "      <td>4.486641</td>\n",
       "      <td>2.340563</td>\n",
       "      <td>3.963791</td>\n",
       "      <td>-1.027473</td>\n",
       "      <td>-1.938944</td>\n",
       "      <td>-0.997374</td>\n",
       "      <td>0.446209</td>\n",
       "      <td>0.976744</td>\n",
       "      <td>0.929381</td>\n",
       "      <td>0.362718</td>\n",
       "      <td>0.028871</td>\n",
       "      <td>unstable</td>\n",
       "    </tr>\n",
       "    <tr>\n",
       "      <th>4</th>\n",
       "      <td>3.134112</td>\n",
       "      <td>7.608772</td>\n",
       "      <td>4.943759</td>\n",
       "      <td>9.857573</td>\n",
       "      <td>3.525811</td>\n",
       "      <td>-1.125531</td>\n",
       "      <td>-1.845975</td>\n",
       "      <td>-0.554305</td>\n",
       "      <td>0.797110</td>\n",
       "      <td>0.455450</td>\n",
       "      <td>0.656947</td>\n",
       "      <td>0.820923</td>\n",
       "      <td>0.049860</td>\n",
       "      <td>unstable</td>\n",
       "    </tr>\n",
       "  </tbody>\n",
       "</table>\n",
       "</div>"
      ],
      "text/plain": [
       "       tau1      tau2      tau3      tau4        p1        p2        p3  \\\n",
       "0  2.959060  3.079885  8.381025  9.780754  3.763085 -0.782604 -1.257395   \n",
       "1  9.304097  4.902524  3.047541  1.369357  5.067812 -1.940058 -1.872742   \n",
       "2  8.971707  8.848428  3.046479  1.214518  3.405158 -1.207456 -1.277210   \n",
       "3  0.716415  7.669600  4.486641  2.340563  3.963791 -1.027473 -1.938944   \n",
       "4  3.134112  7.608772  4.943759  9.857573  3.525811 -1.125531 -1.845975   \n",
       "\n",
       "         p4        g1        g2        g3        g4      stab     stabf  \n",
       "0 -1.723086  0.650456  0.859578  0.887445  0.958034  0.055347  unstable  \n",
       "1 -1.255012  0.413441  0.862414  0.562139  0.781760 -0.005957    stable  \n",
       "2 -0.920492  0.163041  0.766689  0.839444  0.109853  0.003471  unstable  \n",
       "3 -0.997374  0.446209  0.976744  0.929381  0.362718  0.028871  unstable  \n",
       "4 -0.554305  0.797110  0.455450  0.656947  0.820923  0.049860  unstable  "
      ]
     },
     "execution_count": 20,
     "metadata": {},
     "output_type": "execute_result"
    }
   ],
   "source": [
    "df=pd.read_csv(\"smart_grid_stability_augmented.csv\")\n",
    "df.head()"
   ]
  },
  {
   "cell_type": "code",
   "execution_count": 3,
   "id": "18b8b3ed",
   "metadata": {},
   "outputs": [
    {
     "name": "stdout",
     "output_type": "stream",
     "text": [
      "<class 'pandas.core.frame.DataFrame'>\n",
      "RangeIndex: 60000 entries, 0 to 59999\n",
      "Data columns (total 14 columns):\n",
      " #   Column  Non-Null Count  Dtype  \n",
      "---  ------  --------------  -----  \n",
      " 0   tau1    60000 non-null  float64\n",
      " 1   tau2    60000 non-null  float64\n",
      " 2   tau3    60000 non-null  float64\n",
      " 3   tau4    60000 non-null  float64\n",
      " 4   p1      60000 non-null  float64\n",
      " 5   p2      60000 non-null  float64\n",
      " 6   p3      60000 non-null  float64\n",
      " 7   p4      60000 non-null  float64\n",
      " 8   g1      60000 non-null  float64\n",
      " 9   g2      60000 non-null  float64\n",
      " 10  g3      60000 non-null  float64\n",
      " 11  g4      60000 non-null  float64\n",
      " 12  stab    60000 non-null  float64\n",
      " 13  stabf   60000 non-null  object \n",
      "dtypes: float64(13), object(1)\n",
      "memory usage: 6.4+ MB\n"
     ]
    }
   ],
   "source": [
    "df.info()"
   ]
  },
  {
   "cell_type": "code",
   "execution_count": 4,
   "id": "c9ee1c1f",
   "metadata": {},
   "outputs": [
    {
     "data": {
      "text/html": [
       "<div>\n",
       "<style scoped>\n",
       "    .dataframe tbody tr th:only-of-type {\n",
       "        vertical-align: middle;\n",
       "    }\n",
       "\n",
       "    .dataframe tbody tr th {\n",
       "        vertical-align: top;\n",
       "    }\n",
       "\n",
       "    .dataframe thead th {\n",
       "        text-align: right;\n",
       "    }\n",
       "</style>\n",
       "<table border=\"1\" class=\"dataframe\">\n",
       "  <thead>\n",
       "    <tr style=\"text-align: right;\">\n",
       "      <th></th>\n",
       "      <th>tau1</th>\n",
       "      <th>tau2</th>\n",
       "      <th>tau3</th>\n",
       "      <th>tau4</th>\n",
       "      <th>p1</th>\n",
       "      <th>p2</th>\n",
       "      <th>p3</th>\n",
       "      <th>p4</th>\n",
       "      <th>g1</th>\n",
       "      <th>g2</th>\n",
       "      <th>g3</th>\n",
       "      <th>g4</th>\n",
       "      <th>stab</th>\n",
       "      <th>stabf</th>\n",
       "    </tr>\n",
       "  </thead>\n",
       "  <tbody>\n",
       "    <tr>\n",
       "      <th>53497</th>\n",
       "      <td>5.461204</td>\n",
       "      <td>1.335654</td>\n",
       "      <td>9.299112</td>\n",
       "      <td>1.299447</td>\n",
       "      <td>2.989782</td>\n",
       "      <td>-0.759572</td>\n",
       "      <td>-1.702996</td>\n",
       "      <td>-0.527214</td>\n",
       "      <td>0.670606</td>\n",
       "      <td>0.968351</td>\n",
       "      <td>0.857583</td>\n",
       "      <td>0.826899</td>\n",
       "      <td>-0.024273</td>\n",
       "      <td>1</td>\n",
       "    </tr>\n",
       "    <tr>\n",
       "      <th>16574</th>\n",
       "      <td>4.391935</td>\n",
       "      <td>3.744709</td>\n",
       "      <td>3.056008</td>\n",
       "      <td>1.151567</td>\n",
       "      <td>3.769719</td>\n",
       "      <td>-0.949498</td>\n",
       "      <td>-1.937337</td>\n",
       "      <td>-0.882885</td>\n",
       "      <td>0.475897</td>\n",
       "      <td>0.506104</td>\n",
       "      <td>0.876564</td>\n",
       "      <td>0.129286</td>\n",
       "      <td>0.012385</td>\n",
       "      <td>0</td>\n",
       "    </tr>\n",
       "    <tr>\n",
       "      <th>28638</th>\n",
       "      <td>6.906924</td>\n",
       "      <td>2.936956</td>\n",
       "      <td>4.017793</td>\n",
       "      <td>4.717987</td>\n",
       "      <td>3.749604</td>\n",
       "      <td>-0.737034</td>\n",
       "      <td>-1.558564</td>\n",
       "      <td>-1.454007</td>\n",
       "      <td>0.287745</td>\n",
       "      <td>0.434720</td>\n",
       "      <td>0.701639</td>\n",
       "      <td>0.146284</td>\n",
       "      <td>-0.008169</td>\n",
       "      <td>1</td>\n",
       "    </tr>\n",
       "    <tr>\n",
       "      <th>59136</th>\n",
       "      <td>6.992717</td>\n",
       "      <td>9.538566</td>\n",
       "      <td>6.947532</td>\n",
       "      <td>7.107413</td>\n",
       "      <td>4.045369</td>\n",
       "      <td>-1.006425</td>\n",
       "      <td>-1.660991</td>\n",
       "      <td>-1.377953</td>\n",
       "      <td>0.102992</td>\n",
       "      <td>0.950231</td>\n",
       "      <td>0.367738</td>\n",
       "      <td>0.135055</td>\n",
       "      <td>0.036379</td>\n",
       "      <td>0</td>\n",
       "    </tr>\n",
       "    <tr>\n",
       "      <th>56142</th>\n",
       "      <td>8.282417</td>\n",
       "      <td>8.298975</td>\n",
       "      <td>8.404069</td>\n",
       "      <td>0.974022</td>\n",
       "      <td>2.677366</td>\n",
       "      <td>-0.891611</td>\n",
       "      <td>-0.784767</td>\n",
       "      <td>-1.000988</td>\n",
       "      <td>0.613406</td>\n",
       "      <td>0.900684</td>\n",
       "      <td>0.211453</td>\n",
       "      <td>0.328102</td>\n",
       "      <td>0.038789</td>\n",
       "      <td>0</td>\n",
       "    </tr>\n",
       "  </tbody>\n",
       "</table>\n",
       "</div>"
      ],
      "text/plain": [
       "           tau1      tau2      tau3      tau4        p1        p2        p3  \\\n",
       "53497  5.461204  1.335654  9.299112  1.299447  2.989782 -0.759572 -1.702996   \n",
       "16574  4.391935  3.744709  3.056008  1.151567  3.769719 -0.949498 -1.937337   \n",
       "28638  6.906924  2.936956  4.017793  4.717987  3.749604 -0.737034 -1.558564   \n",
       "59136  6.992717  9.538566  6.947532  7.107413  4.045369 -1.006425 -1.660991   \n",
       "56142  8.282417  8.298975  8.404069  0.974022  2.677366 -0.891611 -0.784767   \n",
       "\n",
       "             p4        g1        g2        g3        g4      stab  stabf  \n",
       "53497 -0.527214  0.670606  0.968351  0.857583  0.826899 -0.024273      1  \n",
       "16574 -0.882885  0.475897  0.506104  0.876564  0.129286  0.012385      0  \n",
       "28638 -1.454007  0.287745  0.434720  0.701639  0.146284 -0.008169      1  \n",
       "59136 -1.377953  0.102992  0.950231  0.367738  0.135055  0.036379      0  \n",
       "56142 -1.000988  0.613406  0.900684  0.211453  0.328102  0.038789      0  "
      ]
     },
     "execution_count": 4,
     "metadata": {},
     "output_type": "execute_result"
    }
   ],
   "source": [
    "map1={'unstable':0,'stable':1}\n",
    "df['stabf']=df['stabf'].replace(map1)\n",
    "df=df.sample(frac=1)\n",
    "df.head()"
   ]
  },
  {
   "cell_type": "code",
   "execution_count": 5,
   "id": "630090da",
   "metadata": {},
   "outputs": [],
   "source": [
    "X=df.iloc[ : , :12]\n",
    "y=df.iloc[ : , 13]\n",
    "\n",
    "from sklearn.model_selection import train_test_split\n",
    "X_train,X_test, y_train, y_test = train_test_split(X,y,test_size=0.3, shuffle=True,random_state=1)"
   ]
  },
  {
   "cell_type": "code",
   "execution_count": 6,
   "id": "a3744ac9",
   "metadata": {},
   "outputs": [
    {
     "data": {
      "text/plain": [
       "42000"
      ]
     },
     "execution_count": 6,
     "metadata": {},
     "output_type": "execute_result"
    }
   ],
   "source": [
    "len(X_train)"
   ]
  },
  {
   "cell_type": "code",
   "execution_count": 11,
   "id": "cc5cc958",
   "metadata": {},
   "outputs": [
    {
     "data": {
      "text/plain": [
       "KNeighborsClassifier(n_neighbors=3)"
      ]
     },
     "execution_count": 11,
     "metadata": {},
     "output_type": "execute_result"
    }
   ],
   "source": [
    "# import KNeighbors ClaSSifier from sklearn\n",
    "from sklearn.neighbors import KNeighborsClassifier\n",
    "knn = KNeighborsClassifier(n_neighbors=3)\n",
    "knn.fit(X_train, y_train)"
   ]
  },
  {
   "cell_type": "code",
   "execution_count": 12,
   "id": "20dd8cda",
   "metadata": {},
   "outputs": [
    {
     "data": {
      "text/plain": [
       "array([1, 1, 1, ..., 0, 0, 1], dtype=int64)"
      ]
     },
     "execution_count": 12,
     "metadata": {},
     "output_type": "execute_result"
    }
   ],
   "source": [
    "y_pred = knn.predict(X_test)\n",
    "y_pred"
   ]
  },
  {
   "cell_type": "code",
   "execution_count": 15,
   "id": "9d046268",
   "metadata": {},
   "outputs": [
    {
     "name": "stdout",
     "output_type": "stream",
     "text": [
      "TP =  4587\n",
      "FP =  1422\n",
      "TN =  10124\n",
      "FN =  1867\n",
      "Accuracy =0.817\n"
     ]
    }
   ],
   "source": [
    "from sklearn.metrics import confusion_matrix\n",
    "cm=confusion_matrix(y_test,y_pred)\n",
    "\n",
    "TN,FP,FN,TP=confusion_matrix(y_test,y_pred).ravel()\n",
    "\n",
    "print('TP = ', TP)\n",
    "print('FP = ', FP)\n",
    "print('TN = ', TN)\n",
    "print('FN = ', FN)\n",
    "acc=(TP+TN)/(TP+FP+TN+FN)\n",
    "print('Accuracy ={:0.3f}'.format(acc))\n"
   ]
  },
  {
   "cell_type": "code",
   "execution_count": 17,
   "id": "48bf5e7f",
   "metadata": {},
   "outputs": [
    {
     "data": {
      "image/png": "[encoded data removed]",
      "text/plain": [
       "<Figure size 432x288 with 2 Axes>"
      ]
     },
     "metadata": {
      "needs_background": "light"
     },
     "output_type": "display_data"
    }
   ],
   "source": [
    "import seaborn as sns\n",
    "import matplotlib.pyplot as plt     \n",
    "\n",
    "ax= plt.subplot()\n",
    "sns.heatmap(cm, annot=True, fmt='g', ax=ax);  #annot=True to annotate cells, ftm='g' to disable scientific notation\n",
    "\n",
    "# labels, title and ticks\n",
    "ax.set_xlabel('Predicted labels');ax.set_ylabel('True labels'); \n",
    "ax.set_title('Confusion Matrix'); \n",
    "ax.xaxis.set_ticklabels(['unstable', 'stable']); ax.yaxis.set_ticklabels(['stable', 'unstable']);"
   ]
  },
  {
   "cell_type": "code",
   "execution_count": 18,
   "id": "5b7d7ab6",
   "metadata": {
    "scrolled": true
   },
   "outputs": [
    {
     "name": "stdout",
     "output_type": "stream",
     "text": [
      "Accuracy =0.817\n",
      "              precision    recall  f1-score   support\n",
      "\n",
      "    unstable       0.84      0.88      0.86     11546\n",
      "      stable       0.76      0.71      0.74      6454\n",
      "\n",
      "    accuracy                           0.82     18000\n",
      "   macro avg       0.80      0.79      0.80     18000\n",
      "weighted avg       0.82      0.82      0.82     18000\n",
      "\n"
     ]
    }
   ],
   "source": [
    "from sklearn.metrics import classification_report\n",
    "ac=accuracy_score(y_test,y_pred)\n",
    "print('Accuracy ={:0.3f}'.format(ac))\n",
    "print(classification_report(y_test, y_pred, target_names=['unstable','stable']))"
   ]
  }
 ],
 "metadata": {
  "kernelspec": {
   "display_name": "Python 3 (ipykernel)",
   "language": "python",
   "name": "python3"
  },
  "language_info": {
   "codemirror_mode": {
    "name": "ipython",
    "version": 3
   },
   "file_extension": ".py",
   "mimetype": "text/x-python",
   "name": "python",
   "nbconvert_exporter": "python",
   "pygments_lexer": "ipython3",
   "version": "3.9.7"
  }
 },
 "nbformat": 4,
 "nbformat_minor": 5
}
